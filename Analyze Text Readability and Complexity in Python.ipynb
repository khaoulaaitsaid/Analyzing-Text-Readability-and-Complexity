{
 "cells": [
  {
   "cell_type": "code",
   "execution_count": 19,
   "id": "94c17ff3-0a52-4a37-8dd8-6f292d10064e",
   "metadata": {},
   "outputs": [
    {
     "name": "stdout",
     "output_type": "stream",
     "text": [
      "115.13\n"
     ]
    }
   ],
   "source": [
    "from textstat import textstat\n",
    "text = \"Le soleil brille dans le ciel bleu.\"\n",
    "print(textstat.flesch_reading_ease(text))"
   ]
  },
  {
   "cell_type": "code",
   "execution_count": 20,
   "id": "b195cdaf-7f07-4c45-8086-845b48e86626",
   "metadata": {},
   "outputs": [
    {
     "name": "stdout",
     "output_type": "stream",
     "text": [
      "-1.2\n"
     ]
    }
   ],
   "source": [
    "print(textstat.flesch_kincaid_grade(text))"
   ]
  },
  {
   "cell_type": "code",
   "execution_count": 21,
   "id": "bab097b0-d0f2-4c2a-8622-50d5883182dc",
   "metadata": {},
   "outputs": [
    {
     "name": "stdout",
     "output_type": "stream",
     "text": [
      "2.8\n"
     ]
    }
   ],
   "source": [
    "print(textstat.gunning_fog(text))"
   ]
  },
  {
   "cell_type": "code",
   "execution_count": 22,
   "id": "4830a353-87d3-4794-a46d-9313d7aabe53",
   "metadata": {},
   "outputs": [
    {
     "name": "stdout",
     "output_type": "stream",
     "text": [
      "1.6\n"
     ]
    }
   ],
   "source": [
    "print(textstat.automated_readability_index(text))"
   ]
  },
  {
   "cell_type": "code",
   "execution_count": 23,
   "id": "3db18258-e6e8-4cad-9288-66714a8cdb8c",
   "metadata": {},
   "outputs": [
    {
     "name": "stdout",
     "output_type": "stream",
     "text": [
      "3.26\n"
     ]
    }
   ],
   "source": [
    "print(textstat.coleman_liau_index(text))"
   ]
  },
  {
   "cell_type": "code",
   "execution_count": 24,
   "id": "e6238eb1-1a50-4060-9e5b-784c86f20b45",
   "metadata": {},
   "outputs": [
    {
     "name": "stdout",
     "output_type": "stream",
     "text": [
      "2.5\n"
     ]
    }
   ],
   "source": [
    "print(textstat.linsear_write_formula(text))"
   ]
  },
  {
   "cell_type": "code",
   "execution_count": 25,
   "id": "c9d882df-5114-4c68-8cdb-ead8043a929f",
   "metadata": {},
   "outputs": [
    {
     "name": "stdout",
     "output_type": "stream",
     "text": [
      "17.52\n"
     ]
    }
   ],
   "source": [
    "print(textstat.dale_chall_readability_score(text))"
   ]
  },
  {
   "cell_type": "code",
   "execution_count": 26,
   "id": "40bafe85-99dd-446f-b3f6-cb3a9e50bc5c",
   "metadata": {},
   "outputs": [
    {
     "name": "stdout",
     "output_type": "stream",
     "text": [
      "0\n"
     ]
    }
   ],
   "source": [
    "print(textstat.difficult_words(text))"
   ]
  },
  {
   "cell_type": "code",
   "execution_count": 27,
   "id": "85cdbcac-7ec2-4bda-afe7-db95ae4381a5",
   "metadata": {},
   "outputs": [
    {
     "name": "stdout",
     "output_type": "stream",
     "text": [
      "[]\n"
     ]
    }
   ],
   "source": [
    "text = \"Le soleil brille dans le ciel bleu.\"\n",
    "print(textstat.difficult_words_list(text))"
   ]
  },
  {
   "cell_type": "code",
   "execution_count": 29,
   "id": "6d476574-9408-4c7e-bb71-e568d1ff9029",
   "metadata": {},
   "outputs": [
    {
     "name": "stdout",
     "output_type": "stream",
     "text": [
      "['difficiles', 'moments', 'succès', 'persévérance']\n"
     ]
    }
   ],
   "source": [
    "text =  \"La persévérance est la clé du succès, même dans les moments les plus difficiles de la vie.\"\n",
    "print(textstat.difficult_words_list(text))"
   ]
  },
  {
   "cell_type": "code",
   "execution_count": 30,
   "id": "41469ce5-4598-4e66-a63f-466f69716cd8",
   "metadata": {},
   "outputs": [
    {
     "name": "stdout",
     "output_type": "stream",
     "text": [
      "['montagnes', 'arbres', 'petite', \"c'était\", \"l'ombre\", 'enfants', 'rempli', 'détendaient', 'pendant', 'paisible', 'riaient', 'brillait', 'bonheur']\n",
      "13\n",
      "18.0\n",
      "6.666666666666667\n",
      "9.27\n",
      "6.79\n",
      "81.93\n",
      "5.5\n"
     ]
    }
   ],
   "source": [
    "#very difficul texte\n",
    "text = \"Le soleil brillait dans le ciel bleu, éclairant la petite ville nichée au pied des montagnes. Les enfants riaient en jouant dans le parc, pendant que les adultes se détendaient à l'ombre des arbres. C'était un jour paisible, rempli de bonheur et de chaleur.\"\n",
    "print(textstat.difficult_words_list(text))\n",
    "print(textstat.difficult_words(text))\n",
    "print(textstat.dale_chall_readability_score(text))\n",
    "print(textstat.linsear_write_formula(text))\n",
    "print(textstat.coleman_liau_index(text))\n",
    "print(textstat.gunning_fog(text))\n",
    "print(textstat.flesch_reading_ease(text))\n",
    "print(textstat.flesch_kincaid_grade(text))"
   ]
  },
  {
   "cell_type": "code",
   "execution_count": null,
   "id": "e0db61f0-d1e1-4ab3-a420-8ff36b290bd6",
   "metadata": {},
   "outputs": [],
   "source": []
  }
 ],
 "metadata": {
  "kernelspec": {
   "display_name": "Python 3 (ipykernel)",
   "language": "python",
   "name": "python3"
  },
  "language_info": {
   "codemirror_mode": {
    "name": "ipython",
    "version": 3
   },
   "file_extension": ".py",
   "mimetype": "text/x-python",
   "name": "python",
   "nbconvert_exporter": "python",
   "pygments_lexer": "ipython3",
   "version": "3.11.3"
  }
 },
 "nbformat": 4,
 "nbformat_minor": 5
}
